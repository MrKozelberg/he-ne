{
 "cells": [
  {
   "cell_type": "markdown",
   "metadata": {},
   "source": [
    "### Рассчёт межмодового расстояния для лазера ОКГ-13"
   ]
  },
  {
   "cell_type": "code",
   "execution_count": 22,
   "metadata": {
    "ExecuteTime": {
     "end_time": "2022-05-05T20:51:55.537512Z",
     "start_time": "2022-05-05T20:51:55.519259Z"
    }
   },
   "outputs": [
    {
     "name": "stdout",
     "output_type": "stream",
     "text": [
      "c/(2*L) = 6.662e+08 Гц\n"
     ]
    }
   ],
   "source": [
    "from scipy.constants import c, pi\n",
    "\n",
    "L = 22.5e-2  # в метрах\n",
    "\n",
    "print(f'c/(2*L) = {c/(2*L):.4g} Гц')"
   ]
  },
  {
   "cell_type": "markdown",
   "metadata": {},
   "source": [
    "### Рассчёт ширины линии в спектре лазера\n",
    "\n",
    "Измерили ширину отдельного пика на полувысоте (производилось при масштабе рисунка 200%)\n",
    "\n",
    "![Спектр ОКГ-13](images/1.PNG)"
   ]
  },
  {
   "cell_type": "code",
   "execution_count": 2,
   "metadata": {
    "ExecuteTime": {
     "end_time": "2022-05-05T20:32:42.184426Z",
     "start_time": "2022-05-05T20:32:42.178455Z"
    }
   },
   "outputs": [
    {
     "name": "stdout",
     "output_type": "stream",
     "text": [
      "Delta nu = 4.42e+07 +- 7.9e+06 Гц\n"
     ]
    }
   ],
   "source": [
    "Delta_nu = 0.95 * 6.66e8 / 14.3\n",
    "delta_Delta_nu = (0.15*14.3 + 0.3*0.95)/14.3**2 * 6.66e8  # Гц\n",
    "\n",
    "print(f'Delta nu = {Delta_nu:.3g} +- {delta_Delta_nu:.2g} Гц')"
   ]
  },
  {
   "cell_type": "markdown",
   "metadata": {},
   "source": [
    "### Зависимость высот пиков в середине от высоты пиков сбоку\n",
    "\n",
    "Видно, что зависимость близка к $I_p/\\mathsf{max}(I_p) + I_s/\\mathsf{max}(I_s) = \\mathsf{const}$."
   ]
  },
  {
   "cell_type": "code",
   "execution_count": 24,
   "metadata": {
    "ExecuteTime": {
     "end_time": "2022-05-05T21:55:59.372686Z",
     "start_time": "2022-05-05T21:55:58.770966Z"
    }
   },
   "outputs": [
    {
     "data": {
      "image/png": "[encoded data removed]",
      "text/plain": [
       "<Figure size 432x288 with 1 Axes>"
      ]
     },
     "metadata": {
      "needs_background": "light"
     },
     "output_type": "display_data"
    }
   ],
   "source": [
    "import numpy as np\n",
    "import matplotlib.pyplot as plt\n",
    "\n",
    "h_side = np.array([83/23*0.2, 32/24*0.2, 22/24*0.2, 105/24*0.05, 85/25*0.05])\n",
    "h_center = np.array([1/23*0.2, 12/24*0.2, 17/24*0.2, 55/24*0.05, 75/25*0.05])\n",
    "\n",
    "a, b = np.polyfit(h_side/h_side.max(), h_center/h_center.max(), 1)\n",
    "plt.plot(np.linspace(0,1.05), a*np.linspace(0,1.05)+b, 'b--', label=f'Линейная регрессия a={a:.2}, b={b:.3}')\n",
    "\n",
    "plt.scatter(h_side/h_side.max(), h_center/h_center.max(), color='r', label='Экспериментальные данные')\n",
    "\n",
    "plt.xlabel(r\"Высота бокового пика $I_s/I_{s,max}$\", fontsize='x-large')\n",
    "plt.ylabel(r\"Высота центрального пика $I_p/I_{p,max}$\", fontsize='x-large')\n",
    "\n",
    "plt.grid()\n",
    "plt.legend()\n",
    "\n",
    "plt.savefig('images/I-p-vs-I-s.png', dpi=300)"
   ]
  },
  {
   "cell_type": "markdown",
   "metadata": {
    "ExecuteTime": {
     "end_time": "2022-05-04T21:25:42.182218Z",
     "start_time": "2022-05-04T21:25:42.169256Z"
    }
   },
   "source": [
    "### Определение ширин линий p и s и последующее определение коэффициентов отражения"
   ]
  },
  {
   "cell_type": "code",
   "execution_count": 4,
   "metadata": {
    "ExecuteTime": {
     "end_time": "2022-05-05T20:32:43.888629Z",
     "start_time": "2022-05-05T20:32:43.882602Z"
    }
   },
   "outputs": [
    {
     "data": {
      "text/plain": [
       "44.51524983776769"
      ]
     },
     "execution_count": 4,
     "metadata": {},
     "output_type": "execute_result"
    }
   ],
   "source": [
    "111/1.541*0.618  # Какова ширина одного деления вдоль x в МГц"
   ]
  },
  {
   "cell_type": "code",
   "execution_count": 5,
   "metadata": {
    "ExecuteTime": {
     "end_time": "2022-05-05T20:32:43.906918Z",
     "start_time": "2022-05-05T20:32:43.892431Z"
    }
   },
   "outputs": [
    {
     "name": "stdout",
     "output_type": "stream",
     "text": [
      "Delta_nu_1 = 2.22e+07 Гц, R_1 = 0.966\n"
     ]
    }
   ],
   "source": [
    "Delta_nu_1 = 12/24*44.5*1e6  # ортогональные\n",
    "R_1 = np.exp(-2/3*Delta_nu_1*pi*L/c)\n",
    "\n",
    "print(f'Delta_nu_1 = {Delta_nu_1:.3g} Гц, R_1 = {R_1:.3g}')"
   ]
  },
  {
   "cell_type": "code",
   "execution_count": 6,
   "metadata": {
    "ExecuteTime": {
     "end_time": "2022-05-05T20:32:43.923784Z",
     "start_time": "2022-05-05T20:32:43.913872Z"
    }
   },
   "outputs": [
    {
     "name": "stdout",
     "output_type": "stream",
     "text": [
      "Delta_nu_2 = 3.48e+07 Гц, R_2 = 0.947\n"
     ]
    }
   ],
   "source": [
    "Delta_nu_2 = 18/23*44.5*1e6  # параллельные плоскости трехзеркального резонатора\n",
    "R_2 = np.exp(-2/3*Delta_nu_2*pi*L/c)\n",
    "\n",
    "print(f'Delta_nu_2 = {Delta_nu_2:.3g} Гц, R_2 = {R_2:.3g}')"
   ]
  },
  {
   "cell_type": "markdown",
   "metadata": {},
   "source": [
    "### Определение коэффициента пропускания из данные измерения светотока"
   ]
  },
  {
   "cell_type": "code",
   "execution_count": 20,
   "metadata": {
    "ExecuteTime": {
     "end_time": "2022-05-05T20:34:11.426624Z",
     "start_time": "2022-05-05T20:34:11.410405Z"
    }
   },
   "outputs": [
    {
     "name": "stdout",
     "output_type": "stream",
     "text": [
      "T_1 = 0.000167\n"
     ]
    }
   ],
   "source": [
    "T_1 = (12/100*50*0.01)/(48/100*30/0.04)\n",
    "\n",
    "print(f'T_1 = {T_1:.3g}')"
   ]
  },
  {
   "cell_type": "code",
   "execution_count": 21,
   "metadata": {
    "ExecuteTime": {
     "end_time": "2022-05-05T20:34:11.898428Z",
     "start_time": "2022-05-05T20:34:11.890723Z"
    }
   },
   "outputs": [
    {
     "name": "stdout",
     "output_type": "stream",
     "text": [
      "alpha_1 = 0.185\n"
     ]
    }
   ],
   "source": [
    "alpha_1 = np.sqrt(1 - R_1 - T_1)\n",
    "\n",
    "print(f'alpha_1 = {alpha_1:.3g}')"
   ]
  },
  {
   "cell_type": "code",
   "execution_count": null,
   "metadata": {},
   "outputs": [],
   "source": []
  }
 ],
 "metadata": {
  "kernelspec": {
   "display_name": "Python 3",
   "language": "python",
   "name": "python3"
  },
  "language_info": {
   "codemirror_mode": {
    "name": "ipython",
    "version": 3
   },
   "file_extension": ".py",
   "mimetype": "text/x-python",
   "name": "python",
   "nbconvert_exporter": "python",
   "pygments_lexer": "ipython3",
   "version": "3.9.12"
  }
 },
 "nbformat": 4,
 "nbformat_minor": 4
}
